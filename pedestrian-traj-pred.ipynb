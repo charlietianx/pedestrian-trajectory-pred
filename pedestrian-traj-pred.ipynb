{
 "cells": [
  {
   "cell_type": "code",
   "execution_count": null,
   "metadata": {},
   "outputs": [],
   "source": [
    "# Pedestrian trajectories prediction\n",
    "\n",
    "In this session we are going to explore the elementary stages of a typical data science workflow.  \n",
    "We will do so by studying the popular 'Titanic Survival' dataset.  \n",
    "This notebook is based on https://www.kaggle.com/startupsci/titanic-data-science-solutions."
   ]
  },
  {
   "cell_type": "markdown",
   "metadata": {},
   "source": [
    "## Workflow stages\n",
    "\n",
    "1. Questions or problems definition; **phase 1**\n",
    "2. Acquire training and testing data; ** phase 2 **\n",
    "3. Wrangle, prepare, cleanse the data. ** phase 2 **\n",
    "4. Analyze, identify patterns, and explore the data. ** phase 2/3 **\n",
    "5. Model, predict and solve the problem. ** phase 3 **\n",
    "6. Evaluate, visualize, report, and present the problem solving steps and final solution. ** phase 4 **"
   ]
  },
  {
   "cell_type": "markdown",
   "metadata": {},
   "source": [
    "## Introduction and motivation\n",
    "\n",
    "Our research topic is Pedestrian Trajectories Prediction.This prediction can be affected by many factors, such as agent's destionation, the social group the agent is in(eg. the agent is a couple), the social scene and the social interation. In our research, we focus on predicting the trajectories by training a model on the trajectories history data and use the model to predict future trajectories. We have chosen this topic, because the trajectories prediction has been widely applied in many modern industries. From service robots to automatic driving, trajectories prediction plays quite important role.   "
   ]
  },
  {
   "cell_type": "markdown",
   "metadata": {},
   "source": [
    "## Problem Definition\n",
    "\n",
    "Our research goal is: how many factor variations can we obtain from the dataset? We can make a bold speculation based on instinct, the factors could be social interations, destinations and scene. "
   ]
  }
 ],
 "metadata": {
  "kernelspec": {
   "display_name": "Python 3",
   "language": "python",
   "name": "python3"
  },
  "language_info": {
   "codemirror_mode": {
    "name": "ipython",
    "version": 3
   },
   "file_extension": ".py",
   "mimetype": "text/x-python",
   "name": "python",
   "nbconvert_exporter": "python",
   "pygments_lexer": "ipython3",
   "version": "3.8.5"
  }
 },
 "nbformat": 4,
 "nbformat_minor": 4
}